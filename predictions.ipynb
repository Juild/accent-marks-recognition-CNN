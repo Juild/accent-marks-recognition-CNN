{
 "cells": [
  {
   "cell_type": "code",
   "execution_count": 29,
   "metadata": {},
   "outputs": [
    {
     "name": "stdout",
     "output_type": "stream",
     "text": [
      "model loaded and compiled\n",
      "images loaded\n",
      "[ 2 10 12 ...  7 26  9]\n",
      "5000\n",
      "[['test_image_01343.png' 'aá']\n",
      " ['test_image_03554.png' 'eē']\n",
      " ['test_image_02892.png' 'errors']\n",
      " ...\n",
      " ['test_image_02653.png' 'eè']\n",
      " ['test_image_04222.png' 'uù']\n",
      " ['test_image_00044.png' 'eê']]\n"
     ]
    }
   ],
   "source": [
    "\n",
    "# -*- coding: utf-8 -*-\n",
    "\n",
    "\n",
    "import matplotlib.pyplot as plt\n",
    "import numpy as np\n",
    "import pandas as pd\n",
    "import os\n",
    "import PIL #The Python Imaging Library (PIL) adds image processing capabilities to your Python interpreter\n",
    "import tensorflow as tf\n",
    "import pathlib\n",
    "from tensorflow import keras\n",
    "from tensorflow.keras import layers\n",
    "from tensorflow.keras.models import Sequential\n",
    "\n",
    "#data initialization\n",
    "\n",
    "#os.environ[PYTHONIOENCODING]='UTF-8'\n",
    "tf.keras.backend.clear_session()\n",
    "batch_size = 32\n",
    "img_height = 128\n",
    "img_width = 128\n",
    "\n",
    "folder_path='images_test'\n",
    "\n",
    "#model initialization\n",
    "\n",
    "model=keras.models.load_model('modeltotal.h5')\n",
    "model.compile(optimizer='adam',\n",
    "                      loss=tf.keras.losses.SparseCategoricalCrossentropy(from_logits=True),\n",
    "                      metrics=['accuracy']\n",
    ")\n",
    "\n",
    "print(\"model loaded and compiled\")\n",
    "xlabels = ['aa', 'aà', 'aá', 'aâ', 'aā', 'aä', \n",
    "           'ee', 'eè', 'eé', 'eê', 'eē', 'eë', 'errors', \n",
    "           'ii', 'iì', 'ií', 'iî', 'iï', 'iı̄', \n",
    "           'oo', 'oò', 'oó', 'oô', 'oō', 'oö',\n",
    "           'uu', 'uù', 'uú', 'uû', 'uū', 'uü']\n",
    "images = []\n",
    "names=[]\n",
    "for img in os.listdir(folder_path):\n",
    "\tnames.append(img)\n",
    "for img in os.listdir(folder_path):\n",
    "    img = os.path.join(folder_path, img)\n",
    "    img = tf.keras.preprocessing.image.load_img(img, target_size=(img_width, img_height))\n",
    "    img = tf.keras.preprocessing.image.img_to_array(img)\n",
    "    img = np.expand_dims(img, axis=0)\n",
    "    images.append(img)\n",
    "print(\"images loaded\")\n",
    "\n",
    "images = np.vstack(images)\n",
    "classes = model.predict_classes(images, batch_size=1)\n",
    "print(classes)\n",
    "labels = []\n",
    "print(len(classes))\n",
    "for i in range(len(classes)):\n",
    "\tfor j in range(len(xlabels)):\n",
    "\t\tif classes[i] == j:\n",
    "\t\t\tlabels.append(xlabels[j])\n",
    "df = pd.DataFrame({\"names\":names,\"prediction\":labels})\n",
    "print(darr)\n",
    "df.to_csv(\"prediction.csv\", index=False, encoding=\"utf-8-sig\")\n"
   ]
  }
 ],
 "metadata": {
  "kernelspec": {
   "display_name": "Python 3",
   "language": "python",
   "name": "python3"
  },
  "language_info": {
   "codemirror_mode": {
    "name": "ipython",
    "version": 3
   },
   "file_extension": ".py",
   "mimetype": "text/x-python",
   "name": "python",
   "nbconvert_exporter": "python",
   "pygments_lexer": "ipython3",
   "version": "3.8.2"
  }
 },
 "nbformat": 4,
 "nbformat_minor": 4
}
